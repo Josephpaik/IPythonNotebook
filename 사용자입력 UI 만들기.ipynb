{
 "cells": [
  {
   "cell_type": "markdown",
   "metadata": {},
   "source": [
    "## 사용자와 주고받기, Interact 사용방법\n",
    "interact 함수(IPython.html.widgets.interact)는 자동으로 사용자 인터페이스(UI) 콘트롤을 생성한다.IPython의 위젯을 시작하는 가장 쉬운 방법이기도 하다"
   ]
  },
  {
   "cell_type": "code",
   "execution_count": 4,
   "metadata": {
    "collapsed": false
   },
   "outputs": [
    {
     "name": "stderr",
     "output_type": "stream",
     "text": [
      ":0: FutureWarning: IPython widgets are experimental and may change in the future.\n"
     ]
    }
   ],
   "source": [
    "from __future__ import print_function\n",
    "from IPython.html.widgets import interact, interactive, fixed\n",
    "from IPython.html import widgets"
   ]
  },
  {
   "cell_type": "markdown",
   "metadata": {},
   "source": [
    "## 인터랙트 기초(Basic interact)\n",
    "인터랙트란 함수에서 인수로 사용할 UI요소를 자동생성해주는 것이다. 그러니까 인터랙트를 사용하려면 뭔가 함수를 정의해야 한다는 뜻이다. 인수로 주어진 'x' 를 인쇄하는 함수를 예로 들면..."
   ]
  },
  {
   "cell_type": "code",
   "execution_count": 1,
   "metadata": {
    "collapsed": true
   },
   "outputs": [],
   "source": [
    "def foo(x):\n",
    "    print(x)"
   ]
  },
  {
   "cell_type": "code",
   "execution_count": 2,
   "metadata": {
    "collapsed": false
   },
   "outputs": [
    {
     "name": "stdout",
     "output_type": "stream",
     "text": [
      "I'm a function named 'foo'\n"
     ]
    }
   ],
   "source": [
    "foo(\"I'm a function named 'foo'\")"
   ]
  },
  {
   "cell_type": "markdown",
   "metadata": {},
   "source": [
    "이 함수를 키워드 인자와 함께 interact의 첫번째 인자로 넘겨주면 슬라이더가 하나 만들어지고 이 함수에 연결된다."
   ]
  },
  {
   "cell_type": "code",
   "execution_count": 5,
   "metadata": {
    "collapsed": false
   },
   "outputs": [
    {
     "name": "stdout",
     "output_type": "stream",
     "text": [
      "여기에 입력!\n"
     ]
    }
   ],
   "source": [
    "interact(foo, x='Hi there!');"
   ]
  },
  {
   "cell_type": "code",
   "execution_count": null,
   "metadata": {
    "collapsed": true
   },
   "outputs": [],
   "source": []
  }
 ],
 "metadata": {
  "kernelspec": {
   "display_name": "Python 2",
   "language": "python",
   "name": "python2"
  },
  "language_info": {
   "codemirror_mode": {
    "name": "ipython",
    "version": 2
   },
   "file_extension": ".py",
   "mimetype": "text/x-python",
   "name": "python",
   "nbconvert_exporter": "python",
   "pygments_lexer": "ipython2",
   "version": "2.7.9"
  }
 },
 "nbformat": 4,
 "nbformat_minor": 0
}
