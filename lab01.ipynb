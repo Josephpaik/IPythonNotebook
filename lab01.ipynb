{
 "cells": [
  {
   "cell_type": "markdown",
   "metadata": {},
   "source": [
    "# IPython notebook Essential 테크니컬 리딩 시작"
   ]
  },
  {
   "cell_type": "markdown",
   "metadata": {},
   "source": [
    "### IPython 사용환경 구성\n",
    "로컬 컴퓨터에 Anaconda(아나콘다)를 설치하여 사용할 수도 있고  그냥 온라인 호스팅 Wakari(와카리)를 사용할 수 도 있다. 와카리는 온라인 회원가입만 하면 사용할 수 있기 때문에 설명을 생략하고 아나콘다 설치방법만 설명한다.\n",
    "### 아나콘다 설치방법\n",
    "  1. 아나콘다는 https://store.continuum.io/chop/anaconda/. 에서 파일을 내려받아 설치한다.\n",
    "  \n",
    "  2. 윈도우에 설치하는 경우에는 추가적으로  \"VCForPython27.msi\"를 설치해야한다.\n",
    "    https://www.microsoft.com/en-us/download/details.aspx?id=44266 에서 내려받아 설치한다.\n",
    "    이것이 필요한 이유는 IPython구동을 위해서는 numpy가 필수 패키지인데, \n",
    "    nympy는 \"C\"소스를 내려받아 컴파일해서 사용하는 것이 가장 오류가 적기 때문에 컴파일을 위해 MS Visual C++ 가 필요하기 때문이다.\n",
    "  \n",
    "  - 위의 MS 컴파일러 설치후에는 아래 명령을 수행하여 numpy패키지를 생성한다.\n",
    "  - 컴파일하는데 시간이 좀 걸린다. 조금만 참고 기다리자.\n",
    "  \n",
    "      pip2.exe install numpy\n",
    "    \n",
    "  3. 위의 과정이 성공했다면 그래프를 그려주는 matplotlib도 설치한다.\n",
    "    \n",
    "      pip2.exe install matplotlib\n",
    "      "
   ]
  },
  {
   "cell_type": "markdown",
   "metadata": {},
   "source": [
    "### IPython notebook 시작방법\n",
    "작업용 폴더를 만들고 폴더명에서 \"Shift + 마우스 우클릭\"하여 여기서 명령창 열기(W)를 선택하여 명령창을 실행한다.\n",
    "http://localhost:8888/files/open_command_window_here.png\n",
    "\n",
    "명령창에 \"ipython notebook\"을 입력한다. \n",
    "\n",
    "그러면 웹브라우저가 열리고 주소창에 자동으로 localhost:8888/tree 가 입력된다. 인터넷익스플로러(IE) 에서는 화면이 제대로 동작하지 않으므로 크롬브라우저를 열어 URL을 복사해서 붙여넣기 한다."
   ]
  },
  {
   "cell_type": "markdown",
   "metadata": {},
   "source": [
    "# 1장.  IPython Notebook 둘러보기"
   ]
  },
  {
   "cell_type": "code",
   "execution_count": 16,
   "metadata": {
    "collapsed": false
   },
   "outputs": [
    {
     "name": "stdout",
     "output_type": "stream",
     "text": [
      "Populating the interactive namespace from numpy and matplotlib\n"
     ]
    }
   ],
   "source": [
    "%pylab inline"
   ]
  },
  {
   "cell_type": "code",
   "execution_count": 17,
   "metadata": {
    "collapsed": true
   },
   "outputs": [],
   "source": [
    "import numpy as np"
   ]
  },
  {
   "cell_type": "code",
   "execution_count": 18,
   "metadata": {
    "collapsed": true
   },
   "outputs": [],
   "source": [
    "def cooling_law(temp_start, walk_time):\n",
    "    return temp_out + (temp_start - temp_out)*r ** walk_time"
   ]
  },
  {
   "cell_type": "code",
   "execution_count": 19,
   "metadata": {
    "collapsed": true
   },
   "outputs": [],
   "source": [
    "temp_out = 70.0"
   ]
  },
  {
   "cell_type": "code",
   "execution_count": 20,
   "metadata": {
    "collapsed": true
   },
   "outputs": [],
   "source": [
    "r = 0.9"
   ]
  },
  {
   "cell_type": "code",
   "execution_count": 21,
   "metadata": {
    "collapsed": false
   },
   "outputs": [
    {
     "data": {
      "text/plain": [
       "110.0980206115"
      ]
     },
     "execution_count": 21,
     "metadata": {},
     "output_type": "execute_result"
    }
   ],
   "source": [
    "cooling_law(185.0, 10.0)"
   ]
  },
  {
   "cell_type": "code",
   "execution_count": 22,
   "metadata": {
    "collapsed": false
   },
   "outputs": [],
   "source": [
    "times = arange(0., 21., 5.)"
   ]
  },
  {
   "cell_type": "code",
   "execution_count": 24,
   "metadata": {
    "collapsed": true
   },
   "outputs": [],
   "source": [
    "temperatures = cooling_law(185., times)"
   ]
  },
  {
   "cell_type": "code",
   "execution_count": 25,
   "metadata": {
    "collapsed": false
   },
   "outputs": [
    {
     "data": {
      "text/plain": [
       "array([ 185.        ,  137.90635   ,  110.09802061,   93.67748019,\n",
       "         83.98131528])"
      ]
     },
     "execution_count": 25,
     "metadata": {},
     "output_type": "execute_result"
    }
   ],
   "source": [
    "temperatures"
   ]
  },
  {
   "cell_type": "code",
   "execution_count": 26,
   "metadata": {
    "collapsed": false,
    "scrolled": false
   },
   "outputs": [
    {
     "data": {
      "text/plain": [
       "[<matplotlib.lines.Line2D at 0x6669f10>]"
      ]
     },
     "execution_count": 26,
     "metadata": {},
     "output_type": "execute_result"
    },
    {
     "data": {
      "image/png": "[encoded data removed]",
      "text/plain": [
       "<matplotlib.figure.Figure at 0x65e3570>"
      ]
     },
     "metadata": {},
     "output_type": "display_data"
    }
   ],
   "source": [
    "plot(times, temperatures, 'o')"
   ]
  },
  {
   "cell_type": "markdown",
   "metadata": {},
   "source": [
    "#### [참고] range와 arange의 차이 \n",
    "둘 다 리스트를 주어진 조건에 맞는 리스트를 생성해주지만 range는 정수만 받아들여 정수 리스트를 생성하고 arange는 실수도 인수로 받아들이며 실수로 구성된 리스트를 생성해 준다. range는 파이썬 표준 라이브러리에 포함되어있지만 arrage는 anaconda를 설치해야 사용할 수 있다."
   ]
  },
  {
   "cell_type": "code",
   "execution_count": 27,
   "metadata": {
    "collapsed": false
   },
   "outputs": [],
   "source": [
    "times2 = range(0, 21, 5)"
   ]
  },
  {
   "cell_type": "code",
   "execution_count": 28,
   "metadata": {
    "collapsed": false
   },
   "outputs": [
    {
     "data": {
      "text/plain": [
       "[0, 5, 10, 15, 20]"
      ]
     },
     "execution_count": 28,
     "metadata": {},
     "output_type": "execute_result"
    }
   ],
   "source": [
    "times2"
   ]
  },
  {
   "cell_type": "code",
   "execution_count": 29,
   "metadata": {
    "collapsed": true
   },
   "outputs": [],
   "source": [
    "def temp_mixture(t1, v1, t2, v2):\n",
    "    return (t1 * v1 + t2 * v2) / (v1 + v2)"
   ]
  },
  {
   "cell_type": "code",
   "execution_count": 30,
   "metadata": {
    "collapsed": false
   },
   "outputs": [],
   "source": [
    "temp_coffee= 185.\n",
    "temp_cream=40.\n",
    "vol_coffee= 8.\n",
    "vol_cream= 1.\n",
    "initial_temp_mix_at_shop = temp_mixture(temp_coffee, vol_coffee, temp_cream, vol_cream)\n",
    "temperatures_mix_at_shop = cooling_law(initial_temp_mix_at_shop, times)"
   ]
  },
  {
   "cell_type": "code",
   "execution_count": 31,
   "metadata": {
    "collapsed": false
   },
   "outputs": [
    {
     "data": {
      "text/plain": [
       "array([ 168.88888889,  128.3929    ,  104.48042352,   90.36034528,\n",
       "         82.02258029])"
      ]
     },
     "execution_count": 31,
     "metadata": {},
     "output_type": "execute_result"
    }
   ],
   "source": [
    "temperatures_mix_at_shop"
   ]
  },
  {
   "cell_type": "code",
   "execution_count": 32,
   "metadata": {
    "collapsed": false
   },
   "outputs": [
    {
     "data": {
      "text/plain": [
       "[<matplotlib.lines.Line2D at 0x66b6c10>]"
      ]
     },
     "execution_count": 32,
     "metadata": {},
     "output_type": "execute_result"
    },
    {
     "data": {
      "image/png": "[encoded data removed]",
      "text/plain": [
       "<matplotlib.figure.Figure at 0x6610b50>"
      ]
     },
     "metadata": {},
     "output_type": "display_data"
    }
   ],
   "source": [
    "plot(times, temperatures, 'x')"
   ]
  },
  {
   "cell_type": "code",
   "execution_count": 34,
   "metadata": {
    "collapsed": false
   },
   "outputs": [],
   "source": [
    "temperature_unmixed_coffee = cooling_law(temp_coffee, times)\n",
    "temperatures_mix_at_office = temp_mixture(temperature_unmixed_coffee, vol_coffee, temp_cream, vol_cream)"
   ]
  },
  {
   "cell_type": "code",
   "execution_count": 35,
   "metadata": {
    "collapsed": false
   },
   "outputs": [
    {
     "data": {
      "text/plain": [
       "array([ 168.88888889,  127.02786667,  102.30935165,   87.71331573,\n",
       "         79.09450247])"
      ]
     },
     "execution_count": 35,
     "metadata": {},
     "output_type": "execute_result"
    }
   ],
   "source": [
    "temperatures_mix_at_office"
   ]
  },
  {
   "cell_type": "code",
   "execution_count": 37,
   "metadata": {
    "collapsed": false
   },
   "outputs": [
    {
     "data": {
      "text/plain": [
       "[<matplotlib.lines.Line2D at 0x6ad7fd0>]"
      ]
     },
     "execution_count": 37,
     "metadata": {},
     "output_type": "execute_result"
    },
    {
     "data": {
      "image/png": "[encoded data removed]",
      "text/plain": [
       "<matplotlib.figure.Figure at 0x68d8250>"
      ]
     },
     "metadata": {},
     "output_type": "display_data"
    }
   ],
   "source": [
    "plot(times, temperatures_mix_at_office,'x')"
   ]
  },
  {
   "cell_type": "code",
   "execution_count": 39,
   "metadata": {
    "collapsed": false
   },
   "outputs": [
    {
     "data": {
      "text/plain": [
       "<matplotlib.legend.Legend at 0x6b15410>"
      ]
     },
     "execution_count": 39,
     "metadata": {},
     "output_type": "execute_result"
    },
    {
     "data": {
      "image/png": "[encoded data removed]",
      "text/plain": [
       "<matplotlib.figure.Figure at 0x7053110>"
      ]
     },
     "metadata": {},
     "output_type": "display_data"
    }
   ],
   "source": [
    "plot(times, temperatures_mix_at_shop, 'o')\n",
    "plot(times, temperatures_mix_at_office, 'D', color='r')\n",
    "title('Coffee temperatures for diffenent walking times')\n",
    "xlabel('Walking tiem (min)')\n",
    "ylabel('Temperature (F)')\n",
    "legend(['Mix at shop', 'Mix at office'])"
   ]
  },
  {
   "cell_type": "code",
   "execution_count": null,
   "metadata": {
    "collapsed": true
   },
   "outputs": [],
   "source": []
  }
 ],
 "metadata": {
  "kernelspec": {
   "display_name": "Python 2",
   "language": "python",
   "name": "python2"
  },
  "language_info": {
   "codemirror_mode": {
    "name": "ipython",
    "version": 2
   },
   "file_extension": ".py",
   "mimetype": "text/x-python",
   "name": "python",
   "nbconvert_exporter": "python",
   "pygments_lexer": "ipython2",
   "version": "2.7.10"
  }
 },
 "nbformat": 4,
 "nbformat_minor": 0
}
